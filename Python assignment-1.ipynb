Assignment Part-1
Q1. Why do we call Python as a general purpose and high-level programming language?
Ans:Python is an object-oriented, high-level programming language. Object-oriented means this language is based around objects (such as data) rather than functions, and high-level means it's easy for humans to understand.

Q2. Why is Python called a dynamically typed language?
Python is both a strongly typed and a dynamically typed language. Strong typing means that variables do have a type and that the type matters when performing operations on a variable. Dynamic typing means that the type of the variable is determined only during runtime.

Q3. List some pros and cons of Python programming language?
Beginner-friendly Issues with design Large Community Slower than compiled languages Flexible and Extensible Security Extensive Libraries Work Environment Embeddable High memory consumption Highly Scalable Dynamically-typed language Employing python allows the user to work on multiple domains ranging from Data Science, Machine Learning, Deep Learning, Artificial Intelligence, Scientific Computing Scripting, Networking, Game Development to Web Development.

Q5. What are variable and how can we declare them?
counter = 100 # An integer assignment miles = 1000.0 # A floating point name = "John" # A string

Q6. How can we take an input from the user in Python?
data=int(input("enter the number:"))

Q7. What is the default datatype of the value that has been taken as an input using input() function?
Whether you provide an integer value or any other, all these values are converted into string datatype by the default behavior of the “input()” method.

Q8. What is type casting?
Type Casting is the method to convert the variable data type into a certain data type in order to the operation required to be performed by users implicit type casting a=4 print((type(a))) explicit type casting a=5 c=float(a) print(a)

Q9. Can we take more than one input from the user using single input() function? If yes, how? If no, why?
Yes, by split method. student_name,age,gender=input("enter the student record:").split() print("enter the student name:",student_name) print("enter the student age:",age) print("enter the student gender:",gender) print()

Q10. What are keywords?
Keywords are some predefined and reserved words in python that have special meanings. Keywords are used to define the syntax of the coding. The keyword cannot be used as an identifier, function, and variable name. All the keywords in python are written in lower case except True and False.if,else,elif,and ,or,while

Q11. Can we use keywords as a variable? Support your answer with reason.
No, you cannot use keyword as a variable. Reason: Because Compiler will get confused (or it'll create ambiguity) whether to take it as a keyword.

Q12. What is indentation? What's the use of indentaion in Python?
Indentation refers to the spaces at the beginning of a code line. Where in other programming languages the indentation in code is for readability only, the indentation in Python is very important. Python uses indentation to indicate a block of code.

Q13. How can we throw some output in Python?
print("for output")

Q14. What are operators in Python?
arithmatic(+-/),cmparison(<>=),bolean(true/false)

Q15. What is difference between / and // operators?
In Python programming, you can perform division in two ways. The first one is Float Division("/") and the second is Integer Division("//") or Floor Division.

Q16. Write a code that gives following as an output.
print("Hy,i am learning bigdata")

# `
# iNeuroniNeuroniNeuroniNeuron
# `
Q17. Write a code to take a number as an input from the user and check if the number is odd or even.>
num=int(input("enter the number:")) if num%2==0: print("even") else: print("odd")

Q18. What are boolean operator?
True and False
a=10 b=9 if a==b: print(True) else: print(False) Q19. What will the output of the following?

print( 1 or 0)

print( 0 and 0)

print(True and False and True)

print(1 or 0 or 0)
Q20. What are conditional statements in Python?
A conditional statement as the name suggests itself, is used to handle conditions in your program.(if,else,elif)

Q21. What is use of 'if', 'elif' and 'else' keywords?
if:when we have single condition. else:when we have two condition. elif:when we have multiple conditions.

Q22. Write a code to take the age of person as an input and if age >= 18 display "I can vote". If age is < 18 display "I can't vote".
age=int(input("age of person:")) if age>=18: print("I can vote") else: print("i can not vote")

Q23. Write a code that displays the sum of all the even numbers from the given list.
numbers = [12, 75, 150, 180, 145, 525, 50] total=0 for num in numbers: if num%2 == 0: total=total+num print(total)

Q24. Write a code to take 3 numbers as an input from the user and display the greatest no as output.
a=int(input("enter the number a:")) b=int(input("enter the number b:")) c=int(input("enter the number c:")) if a>b and a>c: print("a greater") elif b>a and b>c: print("b greater") else: print("C greater")

Q25. Write a program to display only those numbers from a list that satisfy the following conditions
The number must be divisible by five for num in numbers: if a%5 ==0:
  print(a)
### - If the number is greater than 150, then skip it and move to the next number for num in numbers: if num>150:
  continue;
print(num) ### - If the number is greater than 500, then stop the loop for num in numbers: if num>500:
  break;
print(num) # ##### numbers = [12, 75, 150, 180, 145, 525, 50]
# -->
